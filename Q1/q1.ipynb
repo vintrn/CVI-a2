{
 "cells": [
  {
   "cell_type": "code",
   "execution_count": 28,
   "id": "a279e54a",
   "metadata": {},
   "outputs": [
    {
     "name": "stdout",
     "output_type": "stream",
     "text": [
      "\n",
      "Linear Regression Evaluation:\n",
      "Coefficients: [  140.58698728 -8405.80410545]\n",
      "Intercept: 92531.14281746527\n",
      "MAE: 53870.21\n",
      "MSE: 3641144051.21\n",
      "RMSE: 60341.89\n",
      "MAPE: 17.47%\n",
      "\n",
      "SGD Regressor Evaluation:\n",
      "Coefficients: [111592.48521906  -6172.2100125 ]\n",
      "Intercept: [344332.00676519]\n",
      "MAE: 53899.85\n",
      "MSE: 3640899034.99\n",
      "RMSE: 60339.86\n",
      "MAPE: 17.48%\n"
     ]
    }
   ],
   "source": [
    "import pandas as pd\n",
    "from sklearn.model_selection import train_test_split\n",
    "from sklearn.linear_model import LinearRegression, SGDRegressor\n",
    "from sklearn.preprocessing import StandardScaler\n",
    "from sklearn.metrics import mean_absolute_error, mean_squared_error, mean_absolute_percentage_error\n",
    "import numpy as np\n",
    "\n",
    "# DATA\n",
    "df = pd.read_csv('house_price.csv')\n",
    "\n",
    "# Features and target\n",
    "X = df[['size', 'bedroom']]\n",
    "y = df['price']\n",
    "\n",
    "# Train/test split\n",
    "X_train, X_test, y_train, y_test = train_test_split(X, y, test_size=0.3, random_state=16)\n",
    "\n",
    "# Scaling for SGDRegressor\n",
    "scaler = StandardScaler()\n",
    "X_train_scaled = scaler.fit_transform(X_train)\n",
    "X_test_scaled = scaler.transform(X_test)\n",
    "\n",
    "# MODEL\n",
    "\n",
    "# Linear Regression \n",
    "lr_model = LinearRegression()\n",
    "lr_model.fit(X_train, y_train)\n",
    "\n",
    "# SGD Regressor\n",
    "sgd_model = SGDRegressor(max_iter=1000, tol=1e-3, random_state=42)\n",
    "sgd_model.fit(X_train_scaled, y_train)\n",
    "\n",
    "# EVALUATE\n",
    "def evaluate(model, X_eval, y_eval, name):\n",
    "    y_pred = model.predict(X_eval)\n",
    "    mae = mean_absolute_error(y_eval, y_pred)\n",
    "    mse = mean_squared_error(y_eval, y_pred)\n",
    "    rmse = np.sqrt(mse)\n",
    "    mape = mean_absolute_percentage_error(y_eval, y_pred)\n",
    "\n",
    "    print(f\"\\n{name} Evaluation:\")\n",
    "    print(f\"Coefficients: {model.coef_}\")\n",
    "    print(f\"Intercept: {model.intercept_}\")\n",
    "    print(f\"MAE: {mae:.2f}\")\n",
    "    print(f\"MSE: {mse:.2f}\")\n",
    "    print(f\"RMSE: {rmse:.2f}\")\n",
    "    print(f\"MAPE: {mape*100:.2f}%\")\n",
    "\n",
    "evaluate(lr_model, X_test, y_test, \"Linear Regression\")\n",
    "evaluate(sgd_model, X_test_scaled, y_test, \"SGD Regressor\")"
   ]
  }
 ],
 "metadata": {
  "kernelspec": {
   "display_name": "python CVI620",
   "language": "python",
   "name": "cvi620"
  },
  "language_info": {
   "codemirror_mode": {
    "name": "ipython",
    "version": 3
   },
   "file_extension": ".py",
   "mimetype": "text/x-python",
   "name": "python",
   "nbconvert_exporter": "python",
   "pygments_lexer": "ipython3",
   "version": "3.11.5"
  }
 },
 "nbformat": 4,
 "nbformat_minor": 5
}
