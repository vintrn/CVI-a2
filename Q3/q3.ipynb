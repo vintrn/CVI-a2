{
 "cells": [
  {
   "cell_type": "code",
   "execution_count": 4,
   "id": "6b499b1c",
   "metadata": {},
   "outputs": [
    {
     "name": "stdout",
     "output_type": "stream",
     "text": [
      "Training Logistic Regression...\n",
      "Training KNN...\n",
      "Training MLP...\n",
      "\n",
      "Results:\n",
      "Logistic Regression: 0.92 success\n",
      "KNN: 0.94 success\n",
      "MLP: 0.98 success\n"
     ]
    }
   ],
   "source": [
    "import numpy as np\n",
    "import pandas as pd\n",
    "from sklearn.linear_model import LogisticRegression\n",
    "from sklearn.neighbors import KNeighborsClassifier\n",
    "from sklearn.neural_network import MLPClassifier\n",
    "from sklearn.metrics import accuracy_score\n",
    "from sklearn.preprocessing import StandardScaler\n",
    "\n",
    "# DATA\n",
    "\n",
    "train_path = 'mnist_train.csv'\n",
    "test_path = 'mnist_test.csv'\n",
    "\n",
    "train_df = pd.read_csv(train_path, header=None)\n",
    "test_df = pd.read_csv(test_path, header=None)\n",
    "\n",
    "# Split labels and features\n",
    "X_train = train_df.iloc[:, 1:].values\n",
    "y_train = train_df.iloc[:, 0].values\n",
    "\n",
    "X_test = test_df.iloc[:, 1:].values\n",
    "y_test = test_df.iloc[:, 0].values\n",
    "\n",
    "# Scale features\n",
    "scaler = StandardScaler()\n",
    "X_train_scaled = scaler.fit_transform(X_train)\n",
    "X_test_scaled = scaler.transform(X_test)\n",
    "\n",
    "# MODEL\n",
    "\n",
    "classifiers = {\n",
    "    'Logistic Regression': LogisticRegression(max_iter=1000, solver='lbfgs'),\n",
    "    'KNN': KNeighborsClassifier(n_neighbors=5),\n",
    "    'MLP': MLPClassifier(hidden_layer_sizes=(100,), max_iter=300, random_state=42)\n",
    "}\n",
    "\n",
    "# Train models\n",
    "for name, clf in classifiers.items():\n",
    "    print(f\"Training {name}...\")\n",
    "    clf.fit(X_train_scaled, y_train)\n",
    "\n",
    "# EVALUATE\n",
    "\n",
    "results = {}\n",
    "\n",
    "for name, clf in classifiers.items():\n",
    "    y_pred = clf.predict(X_test_scaled)\n",
    "    acc = accuracy_score(y_test, y_pred)\n",
    "    results[name] = acc\n",
    "\n",
    "print(\"\\nResults:\")\n",
    "for name, acc in results.items():\n",
    "    status = \"success\" if acc >= 0.90 else \"fail\"\n",
    "    print(f\"{name}: {acc:.2f} {status}\")"
   ]
  }
 ],
 "metadata": {
  "kernelspec": {
   "display_name": "python CVI620",
   "language": "python",
   "name": "cvi620"
  },
  "language_info": {
   "codemirror_mode": {
    "name": "ipython",
    "version": 3
   },
   "file_extension": ".py",
   "mimetype": "text/x-python",
   "name": "python",
   "nbconvert_exporter": "python",
   "pygments_lexer": "ipython3",
   "version": "3.11.5"
  }
 },
 "nbformat": 4,
 "nbformat_minor": 5
}
